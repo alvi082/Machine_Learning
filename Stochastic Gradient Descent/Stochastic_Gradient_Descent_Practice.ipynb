{
  "nbformat": 4,
  "nbformat_minor": 0,
  "metadata": {
    "colab": {
      "provenance": []
    },
    "kernelspec": {
      "name": "python3",
      "display_name": "Python 3"
    },
    "language_info": {
      "name": "python"
    }
  },
  "cells": [
    {
      "cell_type": "code",
      "execution_count": 1,
      "metadata": {
        "id": "iPSR6907EGFa"
      },
      "outputs": [],
      "source": [
        "import numpy as np\n",
        "import pandas as pd\n",
        "import matplotlib.pyplot as plt\n",
        "import seaborn as sns\n",
        "from sklearn import datasets\n",
        "from sklearn.model_selection import train_test_split"
      ]
    },
    {
      "cell_type": "code",
      "source": [
        "bc=datasets.load_breast_cancer()\n",
        "X=bc.data\n",
        "y=bc.target"
      ],
      "metadata": {
        "id": "JogB7Dw9EOs0"
      },
      "execution_count": 3,
      "outputs": []
    },
    {
      "cell_type": "code",
      "source": [
        "X_train,X_test,y_train,y_test=train_test_split(X,y,test_size=0.3,random_state=42,stratify=y)"
      ],
      "metadata": {
        "id": "QfJAuC15EsFp"
      },
      "execution_count": 4,
      "outputs": []
    },
    {
      "cell_type": "code",
      "source": [
        "\n",
        "class SGD:\n",
        "    def __init__(self, n_iterations=100, random_state=1, learning_rate=0.01):\n",
        "        self.n_iterations = n_iterations\n",
        "        self.random_state = random_state\n",
        "        self.learning_rate = learning_rate\n",
        "\n",
        "    def fit(self, X, y):\n",
        "        rgen = np.random.RandomState(self.random_state)\n",
        "        self.coef_ = rgen.normal(loc=0.0, scale=0.01, size=1 + X.shape[1])  # Include bias term\n",
        "\n",
        "        for _ in range(self.n_iterations):\n",
        "            for xi, expected_value in zip(X, y):\n",
        "                predicted_value = self.predict(xi)  # Fix: Call predict correctly\n",
        "                error = expected_value - predicted_value\n",
        "                self.coef_[1:] += self.learning_rate * error * xi  # Update weights\n",
        "                self.coef_[0] += self.learning_rate * error  # Update bias term\n",
        "\n",
        "    def activation(self, X):\n",
        "        # Fix: Separate dot product and bias term addition\n",
        "        return np.dot(X, self.coef_[1:]) + self.coef_[0]\n",
        "\n",
        "    def predict(self, X):\n",
        "        output = self.activation(X)\n",
        "        return np.where(output >= 0.0, 1, 0)\n",
        "\n",
        "    def score(self, X, y):\n",
        "        misclassified_data_count = 0\n",
        "        for xi, target in zip(X, y):\n",
        "            output = self.predict(xi)\n",
        "            if target != output:\n",
        "                misclassified_data_count += 1\n",
        "        total_data_count = len(X)\n",
        "        accuracy = (total_data_count - misclassified_data_count) / total_data_count\n",
        "        return accuracy"
      ],
      "metadata": {
        "id": "ZanQphD5FK2F"
      },
      "execution_count": 27,
      "outputs": []
    },
    {
      "cell_type": "code",
      "source": [
        "model = SGD(learning_rate=0.01, n_iterations=100)\n",
        "model.fit(X_train, y_train)"
      ],
      "metadata": {
        "id": "a9BiXxOGIX7t"
      },
      "execution_count": 28,
      "outputs": []
    },
    {
      "cell_type": "code",
      "source": [
        "train_accuracy = model.score(X_train, y_train)\n",
        "test_accuracy = model.score(X_test, y_test)\n",
        "\n",
        "print(f\"Train Accuracy: {train_accuracy:.2f}\")\n",
        "print(f\"Test Accuracy: {test_accuracy:.2f}\")"
      ],
      "metadata": {
        "colab": {
          "base_uri": "https://localhost:8080/"
        },
        "id": "ZBl5dx5EIphy",
        "outputId": "23c05c6a-05d2-4daf-9051-5f19adbd4182"
      },
      "execution_count": 29,
      "outputs": [
        {
          "output_type": "stream",
          "name": "stdout",
          "text": [
            "Train Accuracy: 0.93\n",
            "Test Accuracy: 0.91\n"
          ]
        }
      ]
    }
  ]
}